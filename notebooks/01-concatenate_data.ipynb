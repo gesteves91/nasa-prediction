{
 "cells": [
  {
   "cell_type": "markdown",
   "metadata": {},
   "source": [
    "# Concatenate Data"
   ]
  },
  {
   "cell_type": "code",
   "execution_count": 1,
   "metadata": {},
   "outputs": [],
   "source": [
    "# import libraries\n",
    "import pandas as pd\n",
    "import matplotlib.pyplot as plt\n",
    "import seaborn as sns"
   ]
  },
  {
   "cell_type": "code",
   "execution_count": 2,
   "metadata": {},
   "outputs": [],
   "source": [
    "pd.set_option('display.max_rows', 500)\n",
    "pd.set_option('display.max_columns', 500)\n",
    "pd.set_option('display.width', 1000)"
   ]
  },
  {
   "cell_type": "code",
   "execution_count": 3,
   "metadata": {},
   "outputs": [],
   "source": [
    "# read the data\n",
    "lucene = pd.read_csv(\"../data/lucene.csv\", index_col=0) \n",
    "equinox = pd.read_csv(\"../data/equinox.csv\", index_col=0) \n",
    "mylyn = pd.read_csv(\"../data/mylyn.csv\", index_col=0) \n",
    "pde = pd.read_csv(\"../data/pde.csv\", index_col=0) \n",
    "jdt = pd.read_csv(\"../data/jdt.csv\", index_col=0) "
   ]
  },
  {
   "cell_type": "code",
   "execution_count": 4,
   "metadata": {},
   "outputs": [
    {
     "data": {
      "text/plain": [
       "(324, 48)"
      ]
     },
     "execution_count": 4,
     "metadata": {},
     "output_type": "execute_result"
    }
   ],
   "source": [
    "equinox.shape"
   ]
  },
  {
   "cell_type": "code",
   "execution_count": 5,
   "metadata": {},
   "outputs": [],
   "source": [
    "df = pd.concat([lucene, equinox, mylyn, pde, jdt])"
   ]
  },
  {
   "cell_type": "code",
   "execution_count": 6,
   "metadata": {},
   "outputs": [],
   "source": [
    "df.columns = df.columns.str.replace(' ', '')"
   ]
  },
  {
   "cell_type": "code",
   "execution_count": 7,
   "metadata": {},
   "outputs": [],
   "source": [
    "# test the mean_commits as a regression problem\n",
    "results = df.bugs.values\n",
    "df = df.drop('bugs', axis=1)\n",
    "df['bugs'] = results "
   ]
  },
  {
   "cell_type": "code",
   "execution_count": 8,
   "metadata": {},
   "outputs": [],
   "source": [
    "def classification_problem(s):\n",
    "    if s >= 1: \n",
    "        return 1\n",
    "    else:\n",
    "        return 0\n",
    "\n",
    "df['bugs_classification'] = df['bugs'].apply(classification_problem)"
   ]
  },
  {
   "cell_type": "code",
   "execution_count": 9,
   "metadata": {},
   "outputs": [],
   "source": [
    "df = df.drop('bugs', axis=1)\n",
    "df = df.drop('', axis=1)"
   ]
  },
  {
   "cell_type": "code",
   "execution_count": 10,
   "metadata": {},
   "outputs": [
    {
     "data": {
      "text/plain": [
       "(5371, 47)"
      ]
     },
     "execution_count": 10,
     "metadata": {},
     "output_type": "execute_result"
    }
   ],
   "source": [
    "df.shape"
   ]
  },
  {
   "cell_type": "code",
   "execution_count": 11,
   "metadata": {},
   "outputs": [],
   "source": [
    "# convert all columns of DataFrame\n",
    "df = df.dropna()\n",
    "# find the objects columns\n",
    "cols = df.columns[df.dtypes.eq('object')]\n",
    "# convert to numeric these columns\n",
    "df[cols] = df[cols].apply(pd.to_numeric, errors='coerce')"
   ]
  },
  {
   "cell_type": "code",
   "execution_count": 12,
   "metadata": {},
   "outputs": [],
   "source": [
    "df = df.drop('nonTrivialBugs', axis=1)\n",
    "df = df.drop('majorBugs', axis=1)\n",
    "df = df.drop('criticalBugs', axis=1)\n",
    "df = df.drop('highPriorityBugs', axis=1)\n",
    "df = df.drop('numberOfNonTrivialBugsFoundUntil:', axis=1)\n",
    "df = df.drop('numberOfMajorBugsFoundUntil:', axis=1)\n",
    "df = df.drop('numberOfHighPriorityBugsFoundUntil:', axis=1)\n",
    "df = df.drop('numberOfCriticalBugsFoundUntil:', axis=1)"
   ]
  },
  {
   "cell_type": "code",
   "execution_count": 13,
   "metadata": {},
   "outputs": [],
   "source": [
    "df.rename(columns={'numberOfBugsFoundUntil:':'numberOfBugsFoundUntil'},inplace=True)\n",
    "df.rename(columns={'numberOfBugsVersionUntil:':'numberOfBugsVersionUntil'},inplace=True)\n",
    "df.rename(columns={'numberOfFixesUntil:':'numberOfFixesUntil'},inplace=True)\n",
    "df.rename(columns={'numberOfRefactoringUntil:':'numberOfRefactoringUntil'},inplace=True)\n",
    "df.rename(columns={'numberOfAuthorsUntil:':'numberOfAuthorsUntil'},inplace=True)\n",
    "df.rename(columns={'linesAddedUntil:':'linesAddedUntil'},inplace=True)\n",
    "df.rename(columns={'maxLinesAddedUntil:':'maxLinesAddedUntil'},inplace=True)\n",
    "df.rename(columns={'avgLinesAddedUntil:':'avgLinesAddedUntil'},inplace=True)\n",
    "df.rename(columns={'linesRemovedUntil:':'linesRemovedUntil'},inplace=True)\n",
    "df.rename(columns={'maxLinesRemovedUntil:':'maxLinesRemovedUntil'},inplace=True)\n",
    "df.rename(columns={'avgLinesRemovedUntil:':'avgLinesRemovedUntil'},inplace=True)\n",
    "df.rename(columns={'codeChurnUntil:':'codeChurnUntil'},inplace=True)\n",
    "df.rename(columns={'maxCodeChurnUntil:':'maxCodeChurnUntil'},inplace=True)\n",
    "df.rename(columns={'avgCodeChurnUntil:':'avgCodeChurnUntil'},inplace=True)\n",
    "df.rename(columns={'ageWithRespectTo:':'ageWithRespectTo'},inplace=True)\n",
    "df.rename(columns={'weightedAgeWithRespectTo:':'weightedAgeWithRespectTo'},inplace=True)"
   ]
  },
  {
   "cell_type": "code",
   "execution_count": 14,
   "metadata": {},
   "outputs": [],
   "source": [
    "df.to_csv('../experiments/total.csv', index = False, header=True)"
   ]
  },
  {
   "cell_type": "markdown",
   "metadata": {},
   "source": [
    "#### That's all folks!!!"
   ]
  },
  {
   "cell_type": "code",
   "execution_count": null,
   "metadata": {},
   "outputs": [],
   "source": []
  }
 ],
 "metadata": {
  "kernelspec": {
   "display_name": "Python 3",
   "language": "python",
   "name": "python3"
  },
  "language_info": {
   "codemirror_mode": {
    "name": "ipython",
    "version": 3
   },
   "file_extension": ".py",
   "mimetype": "text/x-python",
   "name": "python",
   "nbconvert_exporter": "python",
   "pygments_lexer": "ipython3",
   "version": "3.8.2"
  }
 },
 "nbformat": 4,
 "nbformat_minor": 2
}
